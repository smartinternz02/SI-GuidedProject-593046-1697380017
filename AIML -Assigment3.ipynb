{
  "nbformat": 4,
  "nbformat_minor": 0,
  "metadata": {
    "colab": {
      "provenance": []
    },
    "kernelspec": {
      "name": "python3",
      "display_name": "Python 3"
    },
    "language_info": {
      "name": "python"
    }
  },
  "cells": [
    {
      "cell_type": "markdown",
      "source": [
        "Assigment - 3"
      ],
      "metadata": {
        "id": "cBv_tsjTO9aG"
      }
    },
    {
      "cell_type": "markdown",
      "source": [
        "siraparapu lakshmi praveen\n",
        "\n",
        "21bec7266\n",
        "\n",
        "VIT-AP"
      ],
      "metadata": {
        "id": "BE51IhBzPCqv"
      }
    },
    {
      "cell_type": "code",
      "execution_count": null,
      "metadata": {
        "id": "fw0JkLW3O3v2"
      },
      "outputs": [],
      "source": [
        "#Task-1\n",
        "#Download dataset penguins size"
      ]
    },
    {
      "cell_type": "code",
      "source": [
        "#Task-2\n",
        "import pandas as pd\n",
        "df=pd.read_csv('penguins_size.csv')"
      ],
      "metadata": {
        "id": "mXQAVyiuR_mK"
      },
      "execution_count": 1,
      "outputs": []
    },
    {
      "cell_type": "code",
      "source": [
        "#Task-3\n",
        "import matplotlib.pyplot as plt\n",
        "#univariate\n",
        "numerical_vars=['culmen_length_mm']\n",
        "for var in numerical_vars:\n",
        "  summary_stats=df[var].describe()\n",
        "  print(f\"Summary Statistics for {var}:\\n{summary_stats}\\n\")\n",
        "  plt.figure(figsize=(8, 6))\n",
        "  plt.hist(df[var], bins=20, edgecolor='k')\n",
        "  plt.xlabel(var)\n",
        "  plt.ylabel('Frequency')\n",
        "  plt.title(f'{var} Distribution')\n",
        "  plt.show()"
      ],
      "metadata": {
        "colab": {
          "base_uri": "https://localhost:8080/",
          "height": 755
        },
        "id": "DbiaQWZNSSUJ",
        "outputId": "55632560-8ae0-4176-b48f-454f11bc5e04"
      },
      "execution_count": 3,
      "outputs": [
        {
          "output_type": "stream",
          "name": "stdout",
          "text": [
            "Summary Statistics for culmen_length_mm:\n",
            "count    342.000000\n",
            "mean      43.921930\n",
            "std        5.459584\n",
            "min       32.100000\n",
            "25%       39.225000\n",
            "50%       44.450000\n",
            "75%       48.500000\n",
            "max       59.600000\n",
            "Name: culmen_length_mm, dtype: float64\n",
            "\n"
          ]
        },
        {
          "output_type": "display_data",
          "data": {
            "text/plain": [
              "<Figure size 800x600 with 1 Axes>"
            ],
            "image/png": "[encoded data removed]"
          },
          "metadata": {}
        }
      ]
    },
    {
      "cell_type": "code",
      "source": [
        "#Bi-variate\n",
        "categorical_vars=['species','island','sex']\n",
        "for var1 in categorical_vars:\n",
        "  for var2 in categorical_vars:\n",
        "    if var1 != var2:\n",
        "      cross_tab=pd.crosstab(df[var1],df[var2])\n",
        "      print(f\"Cross-tabulation between {var1} and {var2}:\\n{cross_tab}\\n\")"
      ],
      "metadata": {
        "colab": {
          "base_uri": "https://localhost:8080/",
          "height": 0
        },
        "id": "T6pcDko4UaMP",
        "outputId": "b15e3523-f6c3-420c-a458-3b979152fa3f"
      },
      "execution_count": 4,
      "outputs": [
        {
          "output_type": "stream",
          "name": "stdout",
          "text": [
            "Cross-tabulation between species and island:\n",
            "island     Biscoe  Dream  Torgersen\n",
            "species                            \n",
            "Adelie         44     56         52\n",
            "Chinstrap       0     68          0\n",
            "Gentoo        124      0          0\n",
            "\n",
            "Cross-tabulation between species and sex:\n",
            "sex        .  FEMALE  MALE\n",
            "species                   \n",
            "Adelie     0      73    73\n",
            "Chinstrap  0      34    34\n",
            "Gentoo     1      58    61\n",
            "\n",
            "Cross-tabulation between island and species:\n",
            "species    Adelie  Chinstrap  Gentoo\n",
            "island                              \n",
            "Biscoe         44          0     124\n",
            "Dream          56         68       0\n",
            "Torgersen      52          0       0\n",
            "\n",
            "Cross-tabulation between island and sex:\n",
            "sex        .  FEMALE  MALE\n",
            "island                    \n",
            "Biscoe     1      80    83\n",
            "Dream      0      61    62\n",
            "Torgersen  0      24    23\n",
            "\n",
            "Cross-tabulation between sex and species:\n",
            "species  Adelie  Chinstrap  Gentoo\n",
            "sex                               \n",
            ".             0          0       1\n",
            "FEMALE       73         34      58\n",
            "MALE         73         34      61\n",
            "\n",
            "Cross-tabulation between sex and island:\n",
            "island  Biscoe  Dream  Torgersen\n",
            "sex                             \n",
            ".            1      0          0\n",
            "FEMALE      80     61         24\n",
            "MALE        83     62         23\n",
            "\n"
          ]
        }
      ]
    },
    {
      "cell_type": "code",
      "source": [
        "import seaborn as sns\n",
        "numerical_vars=['culmen_length_mm','culmen_depth_mm','flipper_length_mm','body_mass_g']\n",
        "#Multivariate\n",
        "correlation_matrix=df[numerical_vars].corr()\n",
        "plt.figure(figsize=(8, 6))\n",
        "sns.heatmap(correlation_matrix,annot=True, cmap='coolwarm',fmt=\".2f\")\n",
        "plt.title('Correlation Matrix for Numerical Variables')\n",
        "plt.show()"
      ],
      "metadata": {
        "colab": {
          "base_uri": "https://localhost:8080/",
          "height": 667
        },
        "id": "NczFWm8zVhMj",
        "outputId": "19ce99a9-3d04-4808-a149-8da16af086b2"
      },
      "execution_count": 7,
      "outputs": [
        {
          "output_type": "display_data",
          "data": {
            "text/plain": [
              "<Figure size 800x600 with 2 Axes>"
            ],
            "image/png": "[encoded data removed]"
          },
          "metadata": {}
        }
      ]
    },
    {
      "cell_type": "code",
      "source": [
        "#Task 4\n",
        "import pandas as pd\n",
        "numerical_vars=['culmen_length_mm','culmen_depth_mm','flipper_length_mm','body_mass_g']\n",
        "description_stats=df[numerical_vars].describe()\n",
        "print(description_stats)"
      ],
      "metadata": {
        "colab": {
          "base_uri": "https://localhost:8080/",
          "height": 0
        },
        "id": "RpEEJQE5XHmz",
        "outputId": "3f0a81b0-11f4-4dff-e6b3-3ca0e2ad2db1"
      },
      "execution_count": 10,
      "outputs": [
        {
          "output_type": "stream",
          "name": "stdout",
          "text": [
            "       culmen_length_mm  culmen_depth_mm  flipper_length_mm  body_mass_g\n",
            "count        342.000000       342.000000         342.000000   342.000000\n",
            "mean          43.921930        17.151170         200.915205  4201.754386\n",
            "std            5.459584         1.974793          14.061714   801.954536\n",
            "min           32.100000        13.100000         172.000000  2700.000000\n",
            "25%           39.225000        15.600000         190.000000  3550.000000\n",
            "50%           44.450000        17.300000         197.000000  4050.000000\n",
            "75%           48.500000        18.700000         213.000000  4750.000000\n",
            "max           59.600000        21.500000         231.000000  6300.000000\n"
          ]
        }
      ]
    },
    {
      "cell_type": "code",
      "source": [
        "#Task 5\n",
        "import pandas as pd\n",
        "import numpy as np\n",
        "missing_values=df.isnull().sum()\n",
        "columns_with_missing=missing_values[missing_values>0]\n",
        "print(\"Columns with missing values:\")\n",
        "print(columns_with_missing)\n",
        "df_cleaned=df.dropna()\n",
        "df['culmen_length_mm'].fillna(df['culmen_length_mm'].mean(),inplace=True)\n",
        "df['culmen_depth_mm'].fillna(df['culmen_depth_mm'].mean(),inplace=True)\n",
        "df['flipper_length_mm'].fillna(df['flipper_length_mm'].mean(),inplace=True)\n",
        "df['body_mass_g'].fillna(df['body_mass_g'].mean(), inplace=True)\n",
        "remaining_missing = df.isnull().sum().sum()\n",
        "print(\"\\nRemaining missing values:\",remaining_missing)"
      ],
      "metadata": {
        "colab": {
          "base_uri": "https://localhost:8080/",
          "height": 0
        },
        "id": "V9jpcrRMYSw-",
        "outputId": "4dea3e33-289b-4511-8c0f-c28424199990"
      },
      "execution_count": 11,
      "outputs": [
        {
          "output_type": "stream",
          "name": "stdout",
          "text": [
            "Columns with missing values:\n",
            "culmen_length_mm      2\n",
            "culmen_depth_mm       2\n",
            "flipper_length_mm     2\n",
            "body_mass_g           2\n",
            "sex                  10\n",
            "dtype: int64\n",
            "\n",
            "Remaining missing values: 10\n"
          ]
        }
      ]
    },
    {
      "cell_type": "code",
      "source": [
        "#Task 6\n",
        "import pandas as pd\n",
        "import numpy as np\n",
        "from scipy import stats\n",
        "numerical_vars=['culmen_length_mm','culmen_depth_mm','flipper_length_mm','body_mass_g']\n",
        "z_threshold=3\n",
        "df_no_outliers=df.copy()\n",
        "for var in numerical_vars:\n",
        "  z_scores=np.abs(stats.zscore(df[var]))\n",
        "  outliers=z_scores>z_threshold\n",
        "  df_no_outliers[var][outliers]=np.nan\n",
        "df_no_outliers_cleaned=df_no_outliers.dropna()\n",
        "outliers_removed=df.shape[0]-df_no_outliers_cleaned.shape[0]\n",
        "print(\"Number of outliers removed:\",outliers_removed)"
      ],
      "metadata": {
        "colab": {
          "base_uri": "https://localhost:8080/",
          "height": 0
        },
        "id": "D2t45PlkaynV",
        "outputId": "e9e8424f-b6e2-4ed2-b363-0ec79974d7ce"
      },
      "execution_count": 13,
      "outputs": [
        {
          "output_type": "stream",
          "name": "stdout",
          "text": [
            "Number of outliers removed: 10\n"
          ]
        },
        {
          "output_type": "stream",
          "name": "stderr",
          "text": [
            "<ipython-input-13-33a4100021ba>:11: SettingWithCopyWarning: \n",
            "A value is trying to be set on a copy of a slice from a DataFrame\n",
            "\n",
            "See the caveats in the documentation: https://pandas.pydata.org/pandas-docs/stable/user_guide/indexing.html#returning-a-view-versus-a-copy\n",
            "  df_no_outliers[var][outliers]=np.nan\n"
          ]
        }
      ]
    },
    {
      "cell_type": "code",
      "source": [
        "#Task 7\n",
        "import pandas as pd\n",
        "from scipy.stats import chi2_contingency\n",
        "target_variable='species'\n",
        "independent_variables=['culmen_length_mm','culmen_depth_mm','flipper_length_mm','body_mass_g']\n",
        "for var in independent_variables:\n",
        "  contingency_table=pd.crosstab(df[target_variable],df[var])\n",
        "  chi2,p,dof,expected=chi2_contingency(contingency_table)\n",
        "  print(f\"Chi-squared test results for {var}:\")\n",
        "  print(f\"Chi-squared statistics: {chi2}\")\n",
        "  print(f\"P-value: {p}\")\n",
        "  print()"
      ],
      "metadata": {
        "colab": {
          "base_uri": "https://localhost:8080/",
          "height": 0
        },
        "id": "cw6JjJzJfE0C",
        "outputId": "12d4836c-f8be-44ec-9b8d-8b45ae3a4ac1"
      },
      "execution_count": 15,
      "outputs": [
        {
          "output_type": "stream",
          "name": "stdout",
          "text": [
            "Chi-squared test results for culmen_length_mm:\n",
            "Chi-squared statistics: 470.5338593162223\n",
            "P-value: 3.868884352428073e-07\n",
            "\n",
            "Chi-squared test results for culmen_depth_mm:\n",
            "Chi-squared statistics: 379.9739448241096\n",
            "P-value: 6.137713516463007e-20\n",
            "\n",
            "Chi-squared test results for flipper_length_mm:\n",
            "Chi-squared statistics: 382.2373661501773\n",
            "P-value: 9.294963538872332e-32\n",
            "\n",
            "Chi-squared test results for body_mass_g:\n",
            "Chi-squared statistics: 367.89770778147147\n",
            "P-value: 9.265117412024159e-14\n",
            "\n"
          ]
        }
      ]
    },
    {
      "cell_type": "code",
      "source": [
        "#Task 8\n",
        "import pandas as pd\n",
        "categorical_columns=['island','sex']\n",
        "df_encoded = pd.get_dummies(df,columns=categorical_columns, drop_first=True)"
      ],
      "metadata": {
        "id": "J9s6ZtUZlwKE"
      },
      "execution_count": 16,
      "outputs": []
    },
    {
      "cell_type": "code",
      "source": [
        "#Task 9\n",
        "import pandas as pd\n",
        "independent_variables=['culmen_length_mm','culmen_depth_mm','flipper_length_mm','body_mass_g']\n",
        "dependent_variable='species'\n",
        "X = df[independent_variables]\n",
        "y=df[dependent_variable]"
      ],
      "metadata": {
        "id": "syTUelsXmZkd"
      },
      "execution_count": 17,
      "outputs": []
    },
    {
      "cell_type": "code",
      "source": [
        "#Task 10\n",
        "import pandas as pd\n",
        "from sklearn.preprocessing import StandardScaler\n",
        "independent_variables=['culmen_length_mm','culmen_depth_mm','flipper_length_mm','body_mass_g']\n",
        "X=df[independent_variables]\n",
        "scaler=StandardScaler()\n",
        "X_scaled=scaler.fit_transform(X)"
      ],
      "metadata": {
        "id": "rjq6t04jnIMh"
      },
      "execution_count": 21,
      "outputs": []
    },
    {
      "cell_type": "code",
      "source": [
        "#Task 11\n",
        "import pandas as pd\n",
        "from sklearn.model_selection import train_test_split\n",
        "independent_variables=['culmen_length_mm','culmen_depth_mm','flipper_length_mm','body_mass_g']\n",
        "dependent_variable='species'\n",
        "X=df[independent_variables]\n",
        "y=df[dependent_variable]\n",
        "X_train, X_test,y_train, y_test=train_test_split(X,y,test_size=0.2,random_state=42)"
      ],
      "metadata": {
        "id": "OyRaDfbuonKw"
      },
      "execution_count": 23,
      "outputs": []
    },
    {
      "cell_type": "code",
      "source": [
        "#Task 12\n",
        "import numpy as np\n",
        "print(\"Training data - Features shape:\",X_train.shape)\n",
        "print(\"Testing data - Features shape:\",X_test.shape)\n",
        "print(\"Training data - Target shape:\",y_train.shape)\n",
        "print(\"Testing data - Target shape:\",y_test.shape)"
      ],
      "metadata": {
        "colab": {
          "base_uri": "https://localhost:8080/",
          "height": 0
        },
        "id": "lfg4EBy3p8Oj",
        "outputId": "f579e58e-93c8-4fcf-b6b1-825272ec1a81"
      },
      "execution_count": 24,
      "outputs": [
        {
          "output_type": "stream",
          "name": "stdout",
          "text": [
            "Training data - Features shape: (275, 4)\n",
            "Testing data - Features shape: (69, 4)\n",
            "Training data - Target shape: (275,)\n",
            "Testing data - Target shape: (69,)\n"
          ]
        }
      ]
    },
    {
      "cell_type": "code",
      "source": [
        "#Accurancy predictions\n",
        "#Accurancy values generation\n",
        "from sklearn.model_selection import train_test_split\n",
        "X_train,X_test,y_train,y_test=train_test_split(X,y,test_size=0.2,random_state=42)\n",
        "from sklearn.preprocessing import StandardScaler\n",
        "scaler = StandardScaler()\n",
        "X_train_scaled=scaler.fit_transform(X_train)\n",
        "X_test_scaled=scaler.transform(X_test)\n",
        "from sklearn.linear_model import LogisticRegression\n",
        "from sklearn.metrics import accuracy_score\n",
        "model=LogisticRegression(random_state=42)\n",
        "model.fit(X_train_scaled,y_train)\n",
        "y_train_pred = model.predict(X_train_scaled)\n",
        "y_test_pred = model.predict(X_test_scaled)\n",
        "train_accuracy = accuracy_score(y_train,y_train_pred)\n",
        "print(\"Training Accuracy:\",train_accuracy)\n",
        "test_accuracy = accuracy_score(y_test,y_test_pred)\n",
        "print(\"Testing Accuracy:\", test_accuracy)"
      ],
      "metadata": {
        "colab": {
          "base_uri": "https://localhost:8080/",
          "height": 0
        },
        "id": "kJWUJWS9q6Hd",
        "outputId": "cf4c0c75-144a-4942-db4d-4ce3dd2cc67b"
      },
      "execution_count": 25,
      "outputs": [
        {
          "output_type": "stream",
          "name": "stdout",
          "text": [
            "Training Accuracy: 0.9890909090909091\n",
            "Testing Accuracy: 0.9710144927536232\n"
          ]
        }
      ]
    }
  ]
}
